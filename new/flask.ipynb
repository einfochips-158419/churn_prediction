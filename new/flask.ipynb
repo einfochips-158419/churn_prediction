{
 "cells": [
  {
   "cell_type": "code",
   "execution_count": null,
   "metadata": {},
   "outputs": [],
   "source": [
    "from flask import Flask, render_template,request,redirect,url_for\n",
    "# from flask_ngrok import run_with_ngrok\n",
    "from joblib import load\n",
    "import pandas as pd"
   ]
  },
  {
   "cell_type": "code",
   "execution_count": null,
   "metadata": {},
   "outputs": [],
   "source": [
    "app = Flask(__name__,template_folder=r\"churn_prediction\")"
   ]
  },
  {
   "cell_type": "code",
   "execution_count": null,
   "metadata": {},
   "outputs": [],
   "source": [
    "@app.route(\"/\")\n",
    "def index():\n",
    "    return render_template(\"model.html\") \n",
    "\n",
    "@app.route(\"/model\",methods=['GET', 'POST'])\n",
    "def model_page():\n",
    "\n",
    "\n",
    "  output_text = 'Initial'\n",
    "\n",
    "  if request.method == 'POST':\n",
    "      gender = request.form.get('gender')\n",
    "      SeniorCitizen = request.form.get('SeniorCitizen')\n",
    "      Partner = request.form.get('Partner')\n",
    "      Dependents  = request.form.get('Dependents')\n",
    "      PhoneService = request.form.get('PhoneService')\n",
    "      MultipleLines = request.form.get('MultipleLines')\n",
    "      InternetService = request.form.get('InternetService')\n",
    "      OnlineSecurity = request.form.get('OnlineSecurity')\n",
    "      OnlineBackup = request.form.get('OnlineBackup')\n",
    "      DeviceProtection = request.form.get('DeviceProtection')\n",
    "      TechSupport = request.form.get('TechSupport')\n",
    "      StreamingTV = request.form.get('StreamingTV')\n",
    "      StreamingMovies = request.form.get('StreamingMovies')\n",
    "      Contract = request.form.get('Contract')\n",
    "      PaperlessBilling = request.form.get('PaperlessBilling')\n",
    "      PaymentMethod = request.form.get('PaymentMethod')\n",
    "      MonthlyCharges = request.form.get('MonthlyCharges')\n",
    "      TotalCharges = request.form.get('TotalCharges')\n",
    "      tenure_group = request.form.get('tenure_group')\n",
    "\n",
    "      df = pd.DataFrame({\n",
    "          'gender':[gender],\n",
    "          'SeniorCitizen':[SeniorCitizen],\n",
    "          'Partner':[Partner],\n",
    "          'Dependents':[Dependents],\n",
    "          'PhoneService':[PhoneService],\n",
    "          'MultipleLines':[MultipleLines],\n",
    "          'InternetService':[InternetService],\n",
    "          'OnlineSecurity':[OnlineSecurity],\n",
    "          'OnlineBackup':[OnlineBackup],\n",
    "          'DeviceProtection':[DeviceProtection],\n",
    "          'TechSupport':[TechSupport],\n",
    "          'StreamingTV':[StreamingTV],\n",
    "          'StreamingMovies':[StreamingMovies],\n",
    "          'Contract':[Contract],\n",
    "          'PaperlessBilling':[PaperlessBilling],\n",
    "          'PaymentMethod':[PaymentMethod],\n",
    "          'MonthlyCharges':[MonthlyCharges],\n",
    "          'TotalCharges':[TotalCharges],\n",
    "          'tenure_group':[tenure_group]\n",
    "      })\n",
    "\n",
    "\n",
    "    #   randomForestClassifier = load('/content/drive/MyDrive/Project_ML/random_forest.joblib')\n",
    "      randomForestClassifier = load('churn_prediction/random_forest.joblib')\n",
    "      y_pred = randomForestClassifier.predict(df)\n",
    "\n",
    "      if y_pred == 0.0:\n",
    "          pred = \" User Will Not Churn \"\n",
    "      else:\n",
    "          pred = \" User Will Churn \"\n",
    "\n",
    "      return render_template('output.html', output_text = pred)\n",
    "\n"
   ]
  },
  {
   "cell_type": "code",
   "execution_count": null,
   "metadata": {},
   "outputs": [],
   "source": [
    "app.run()"
   ]
  }
 ],
 "metadata": {
  "language_info": {
   "name": "python"
  },
  "orig_nbformat": 4
 },
 "nbformat": 4,
 "nbformat_minor": 2
}
